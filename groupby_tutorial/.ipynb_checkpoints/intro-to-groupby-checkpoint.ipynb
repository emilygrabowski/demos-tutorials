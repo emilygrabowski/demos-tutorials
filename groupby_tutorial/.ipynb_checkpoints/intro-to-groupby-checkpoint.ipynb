{
 "cells": [
  {
   "cell_type": "markdown",
   "metadata": {
    "id": "bNNO_MXWfD_R"
   },
   "source": [
    "# Group by\n",
    "\n",
    "A limiting factor for dealing with large datasets can be summarizing and aggregating data. This notebook will present a tutorial on using  [groupby()](https://pandas.pydata.org/pandas-docs/stable/user_guide/groupby.html) as a method for summarizing data.\n",
    "\n"
   ]
  },
  {
   "cell_type": "code",
   "execution_count": 3,
   "metadata": {
    "executionInfo": {
     "elapsed": 197,
     "status": "ok",
     "timestamp": 1649261013917,
     "user": {
      "displayName": "Emily Grabowski",
      "userId": "01570827589624760057"
     },
     "user_tz": 420
    },
    "id": "ZM8wBvDdW4kI"
   },
   "outputs": [],
   "source": [
    "#import pandas\n",
    "import pandas as pd\n",
    "import numpy as np\n"
   ]
  },
  {
   "cell_type": "code",
   "execution_count": 4,
   "metadata": {
    "colab": {
     "base_uri": "https://localhost:8080/",
     "height": 243
    },
    "executionInfo": {
     "elapsed": 1211,
     "status": "ok",
     "timestamp": 1649261016600,
     "user": {
      "displayName": "Emily Grabowski",
      "userId": "01570827589624760057"
     },
     "user_tz": 420
    },
    "id": "sTzz8c7mPmeA",
    "outputId": "19b2a6e6-fa49-4d1c-be3e-ba26edd692b0"
   },
   "outputs": [
    {
     "name": "stdout",
     "output_type": "stream",
     "text": [
      "species: ['Adelie' 'Chinstrap' 'Gentoo']\n"
     ]
    },
    {
     "data": {
      "text/html": [
       "<div>\n",
       "<style scoped>\n",
       "    .dataframe tbody tr th:only-of-type {\n",
       "        vertical-align: middle;\n",
       "    }\n",
       "\n",
       "    .dataframe tbody tr th {\n",
       "        vertical-align: top;\n",
       "    }\n",
       "\n",
       "    .dataframe thead th {\n",
       "        text-align: right;\n",
       "    }\n",
       "</style>\n",
       "<table border=\"1\" class=\"dataframe\">\n",
       "  <thead>\n",
       "    <tr style=\"text-align: right;\">\n",
       "      <th></th>\n",
       "      <th>species</th>\n",
       "      <th>island</th>\n",
       "      <th>culmen_length_mm</th>\n",
       "      <th>culmen_depth_mm</th>\n",
       "      <th>flipper_length_mm</th>\n",
       "      <th>body_mass_g</th>\n",
       "      <th>sex</th>\n",
       "    </tr>\n",
       "  </thead>\n",
       "  <tbody>\n",
       "    <tr>\n",
       "      <th>0</th>\n",
       "      <td>Adelie</td>\n",
       "      <td>Torgersen</td>\n",
       "      <td>39.1</td>\n",
       "      <td>18.7</td>\n",
       "      <td>181.0</td>\n",
       "      <td>3750.0</td>\n",
       "      <td>MALE</td>\n",
       "    </tr>\n",
       "    <tr>\n",
       "      <th>1</th>\n",
       "      <td>Adelie</td>\n",
       "      <td>Torgersen</td>\n",
       "      <td>39.5</td>\n",
       "      <td>17.4</td>\n",
       "      <td>186.0</td>\n",
       "      <td>3800.0</td>\n",
       "      <td>FEMALE</td>\n",
       "    </tr>\n",
       "    <tr>\n",
       "      <th>2</th>\n",
       "      <td>Adelie</td>\n",
       "      <td>Torgersen</td>\n",
       "      <td>40.3</td>\n",
       "      <td>18.0</td>\n",
       "      <td>195.0</td>\n",
       "      <td>3250.0</td>\n",
       "      <td>FEMALE</td>\n",
       "    </tr>\n",
       "    <tr>\n",
       "      <th>3</th>\n",
       "      <td>Adelie</td>\n",
       "      <td>Torgersen</td>\n",
       "      <td>NaN</td>\n",
       "      <td>NaN</td>\n",
       "      <td>NaN</td>\n",
       "      <td>NaN</td>\n",
       "      <td>NaN</td>\n",
       "    </tr>\n",
       "    <tr>\n",
       "      <th>4</th>\n",
       "      <td>Adelie</td>\n",
       "      <td>Torgersen</td>\n",
       "      <td>36.7</td>\n",
       "      <td>19.3</td>\n",
       "      <td>193.0</td>\n",
       "      <td>3450.0</td>\n",
       "      <td>FEMALE</td>\n",
       "    </tr>\n",
       "  </tbody>\n",
       "</table>\n",
       "</div>"
      ],
      "text/plain": [
       "  species     island  culmen_length_mm  culmen_depth_mm  flipper_length_mm  \\\n",
       "0  Adelie  Torgersen              39.1             18.7              181.0   \n",
       "1  Adelie  Torgersen              39.5             17.4              186.0   \n",
       "2  Adelie  Torgersen              40.3             18.0              195.0   \n",
       "3  Adelie  Torgersen               NaN              NaN                NaN   \n",
       "4  Adelie  Torgersen              36.7             19.3              193.0   \n",
       "\n",
       "   body_mass_g     sex  \n",
       "0       3750.0    MALE  \n",
       "1       3800.0  FEMALE  \n",
       "2       3250.0  FEMALE  \n",
       "3          NaN     NaN  \n",
       "4       3450.0  FEMALE  "
      ]
     },
     "execution_count": 4,
     "metadata": {},
     "output_type": "execute_result"
    }
   ],
   "source": [
    "df = pd.read_csv('https://raw.githubusercontent.com/emilygrabowski/demos-tutorials/main/groupby_tutorial/penguins_size.csv') \n",
    "#data from: https://www.kaggle.com/datasets/parulpandey/palmer-archipelago-antarctica-penguin-data?resource=download&select=penguins_size.csv\n",
    "\n",
    "print(\"species:\",df.species.unique())\n",
    "df.head()"
   ]
  },
  {
   "cell_type": "markdown",
   "metadata": {
    "id": "yLellpv4jLDP"
   },
   "source": [
    "The dataframe  ([source](https://www.kaggle.com/datasets/parulpandey/palmer-archipelago-antarctica-penguin-data?resource=download&select=penguins_size.csv)) is of body measurements of three penguin species (Adelie, Chinstrap, Gentoo). "
   ]
  },
  {
   "cell_type": "markdown",
   "metadata": {
    "id": "kTg5Qq-hiYcB"
   },
   "source": [
    "One quick way to summarize a dataframe is to use the pandas `describe()` method. This method gives a summary for each of the numeric columns. "
   ]
  },
  {
   "cell_type": "code",
   "execution_count": 5,
   "metadata": {
    "colab": {
     "base_uri": "https://localhost:8080/",
     "height": 300
    },
    "executionInfo": {
     "elapsed": 215,
     "status": "ok",
     "timestamp": 1649261059037,
     "user": {
      "displayName": "Emily Grabowski",
      "userId": "01570827589624760057"
     },
     "user_tz": 420
    },
    "id": "XJy53mhhiHc-",
    "outputId": "668f85e4-8372-458d-c849-c12110c658ac"
   },
   "outputs": [
    {
     "data": {
      "text/html": [
       "<div>\n",
       "<style scoped>\n",
       "    .dataframe tbody tr th:only-of-type {\n",
       "        vertical-align: middle;\n",
       "    }\n",
       "\n",
       "    .dataframe tbody tr th {\n",
       "        vertical-align: top;\n",
       "    }\n",
       "\n",
       "    .dataframe thead th {\n",
       "        text-align: right;\n",
       "    }\n",
       "</style>\n",
       "<table border=\"1\" class=\"dataframe\">\n",
       "  <thead>\n",
       "    <tr style=\"text-align: right;\">\n",
       "      <th></th>\n",
       "      <th>culmen_length_mm</th>\n",
       "      <th>culmen_depth_mm</th>\n",
       "      <th>flipper_length_mm</th>\n",
       "      <th>body_mass_g</th>\n",
       "    </tr>\n",
       "  </thead>\n",
       "  <tbody>\n",
       "    <tr>\n",
       "      <th>count</th>\n",
       "      <td>342.000000</td>\n",
       "      <td>342.000000</td>\n",
       "      <td>342.000000</td>\n",
       "      <td>342.000000</td>\n",
       "    </tr>\n",
       "    <tr>\n",
       "      <th>mean</th>\n",
       "      <td>43.921930</td>\n",
       "      <td>17.151170</td>\n",
       "      <td>200.915205</td>\n",
       "      <td>4201.754386</td>\n",
       "    </tr>\n",
       "    <tr>\n",
       "      <th>std</th>\n",
       "      <td>5.459584</td>\n",
       "      <td>1.974793</td>\n",
       "      <td>14.061714</td>\n",
       "      <td>801.954536</td>\n",
       "    </tr>\n",
       "    <tr>\n",
       "      <th>min</th>\n",
       "      <td>32.100000</td>\n",
       "      <td>13.100000</td>\n",
       "      <td>172.000000</td>\n",
       "      <td>2700.000000</td>\n",
       "    </tr>\n",
       "    <tr>\n",
       "      <th>25%</th>\n",
       "      <td>39.225000</td>\n",
       "      <td>15.600000</td>\n",
       "      <td>190.000000</td>\n",
       "      <td>3550.000000</td>\n",
       "    </tr>\n",
       "    <tr>\n",
       "      <th>50%</th>\n",
       "      <td>44.450000</td>\n",
       "      <td>17.300000</td>\n",
       "      <td>197.000000</td>\n",
       "      <td>4050.000000</td>\n",
       "    </tr>\n",
       "    <tr>\n",
       "      <th>75%</th>\n",
       "      <td>48.500000</td>\n",
       "      <td>18.700000</td>\n",
       "      <td>213.000000</td>\n",
       "      <td>4750.000000</td>\n",
       "    </tr>\n",
       "    <tr>\n",
       "      <th>max</th>\n",
       "      <td>59.600000</td>\n",
       "      <td>21.500000</td>\n",
       "      <td>231.000000</td>\n",
       "      <td>6300.000000</td>\n",
       "    </tr>\n",
       "  </tbody>\n",
       "</table>\n",
       "</div>"
      ],
      "text/plain": [
       "       culmen_length_mm  culmen_depth_mm  flipper_length_mm  body_mass_g\n",
       "count        342.000000       342.000000         342.000000   342.000000\n",
       "mean          43.921930        17.151170         200.915205  4201.754386\n",
       "std            5.459584         1.974793          14.061714   801.954536\n",
       "min           32.100000        13.100000         172.000000  2700.000000\n",
       "25%           39.225000        15.600000         190.000000  3550.000000\n",
       "50%           44.450000        17.300000         197.000000  4050.000000\n",
       "75%           48.500000        18.700000         213.000000  4750.000000\n",
       "max           59.600000        21.500000         231.000000  6300.000000"
      ]
     },
     "execution_count": 5,
     "metadata": {},
     "output_type": "execute_result"
    }
   ],
   "source": [
    "df.describe()"
   ]
  },
  {
   "cell_type": "markdown",
   "metadata": {
    "id": "OjupG1WYkVkQ"
   },
   "source": [
    "Let's say we are interested in the average flipper length by species. There are several ways to do this in Python. Here's one that I used to use frequently:\n",
    "\n"
   ]
  },
  {
   "cell_type": "code",
   "execution_count": 6,
   "metadata": {
    "colab": {
     "base_uri": "https://localhost:8080/"
    },
    "executionInfo": {
     "elapsed": 47,
     "status": "ok",
     "timestamp": 1649256438216,
     "user": {
      "displayName": "Emily Grabowski",
      "userId": "01570827589624760057"
     },
     "user_tz": 420
    },
    "id": "yPcQONIWmBz-",
    "outputId": "4b9279cf-1fea-4ce2-d4c8-55d09c99bc1b"
   },
   "outputs": [
    {
     "name": "stdout",
     "output_type": "stream",
     "text": [
      "Average flipper length for Adelie penguins: 189.95364238410596\n",
      "Average flipper length for Chinstrap penguins: 195.8235294117647\n",
      "Average flipper length for Gentoo penguins: 217.1869918699187\n"
     ]
    }
   ],
   "source": [
    "print('Average flipper length for Adelie penguins:',df.loc[df['species']=='Adelie','flipper_length_mm'].mean())\n",
    "print('Average flipper length for Chinstrap penguins:',df.loc[df['species']=='Chinstrap','flipper_length_mm'].mean())\n",
    "print('Average flipper length for Gentoo penguins:',df.loc[df['species']=='Gentoo','flipper_length_mm'].mean())"
   ]
  },
  {
   "cell_type": "markdown",
   "metadata": {
    "id": "xM-bMKzImlny"
   },
   "source": [
    "Alternatively, we can use a pandas function `groupby` to do so in a much briefer line."
   ]
  },
  {
   "cell_type": "code",
   "execution_count": 7,
   "metadata": {
    "colab": {
     "base_uri": "https://localhost:8080/"
    },
    "executionInfo": {
     "elapsed": 190,
     "status": "ok",
     "timestamp": 1649257608920,
     "user": {
      "displayName": "Emily Grabowski",
      "userId": "01570827589624760057"
     },
     "user_tz": 420
    },
    "id": "TyyNJknBj0YU",
    "outputId": "7d3ef1e0-202c-48a5-f3c4-db7c5800172b"
   },
   "outputs": [
    {
     "data": {
      "text/plain": [
       "species\n",
       "Adelie       189.953642\n",
       "Chinstrap    195.823529\n",
       "Gentoo       217.186992\n",
       "Name: flipper_length_mm, dtype: float64"
      ]
     },
     "execution_count": 7,
     "metadata": {},
     "output_type": "execute_result"
    }
   ],
   "source": [
    "by_species = df.groupby(by='species')\n",
    "by_species.flipper_length_mm.mean()"
   ]
  },
  {
   "cell_type": "markdown",
   "metadata": {
    "id": "Xza1d6NST9KR"
   },
   "source": [
    "The groupby method creates a grouping object"
   ]
  },
  {
   "cell_type": "code",
   "execution_count": 8,
   "metadata": {
    "colab": {
     "base_uri": "https://localhost:8080/"
    },
    "executionInfo": {
     "elapsed": 39,
     "status": "ok",
     "timestamp": 1649256438218,
     "user": {
      "displayName": "Emily Grabowski",
      "userId": "01570827589624760057"
     },
     "user_tz": 420
    },
    "id": "72qxfDEuJzj8",
    "outputId": "2eab5ea7-209f-484b-9221-62a3ae5dfaad"
   },
   "outputs": [
    {
     "name": "stdout",
     "output_type": "stream",
     "text": [
      "<class 'pandas.core.groupby.generic.DataFrameGroupBy'>\n"
     ]
    }
   ],
   "source": [
    "print(type(by_species))"
   ]
  },
  {
   "cell_type": "code",
   "execution_count": 9,
   "metadata": {
    "colab": {
     "base_uri": "https://localhost:8080/"
    },
    "executionInfo": {
     "elapsed": 37,
     "status": "ok",
     "timestamp": 1649256438220,
     "user": {
      "displayName": "Emily Grabowski",
      "userId": "01570827589624760057"
     },
     "user_tz": 420
    },
    "id": "3ABR3iShKBRm",
    "outputId": "dd9be2f1-1f58-4c7e-8b93-b541533bafd1"
   },
   "outputs": [
    {
     "name": "stdout",
     "output_type": "stream",
     "text": [
      "{'Adelie': [0, 1, 2, 3, 4, 5, 6, 7, 8, 9, 10, 11, 12, 13, 14, 15, 16, 17, 18, 19, 20, 21, 22, 23, 24, 25, 26, 27, 28, 29, 30, 31, 32, 33, 34, 35, 36, 37, 38, 39, 40, 41, 42, 43, 44, 45, 46, 47, 48, 49, 50, 51, 52, 53, 54, 55, 56, 57, 58, 59, 60, 61, 62, 63, 64, 65, 66, 67, 68, 69, 70, 71, 72, 73, 74, 75, 76, 77, 78, 79, 80, 81, 82, 83, 84, 85, 86, 87, 88, 89, 90, 91, 92, 93, 94, 95, 96, 97, 98, 99, ...], 'Chinstrap': [152, 153, 154, 155, 156, 157, 158, 159, 160, 161, 162, 163, 164, 165, 166, 167, 168, 169, 170, 171, 172, 173, 174, 175, 176, 177, 178, 179, 180, 181, 182, 183, 184, 185, 186, 187, 188, 189, 190, 191, 192, 193, 194, 195, 196, 197, 198, 199, 200, 201, 202, 203, 204, 205, 206, 207, 208, 209, 210, 211, 212, 213, 214, 215, 216, 217, 218, 219], 'Gentoo': [220, 221, 222, 223, 224, 225, 226, 227, 228, 229, 230, 231, 232, 233, 234, 235, 236, 237, 238, 239, 240, 241, 242, 243, 244, 245, 246, 247, 248, 249, 250, 251, 252, 253, 254, 255, 256, 257, 258, 259, 260, 261, 262, 263, 264, 265, 266, 267, 268, 269, 270, 271, 272, 273, 274, 275, 276, 277, 278, 279, 280, 281, 282, 283, 284, 285, 286, 287, 288, 289, 290, 291, 292, 293, 294, 295, 296, 297, 298, 299, 300, 301, 302, 303, 304, 305, 306, 307, 308, 309, 310, 311, 312, 313, 314, 315, 316, 317, 318, 319, ...]}\n"
     ]
    }
   ],
   "source": [
    "print(by_species.groups)"
   ]
  },
  {
   "cell_type": "markdown",
   "metadata": {
    "id": "cP-6GhSooqIT"
   },
   "source": [
    "You can also provide multiple columns to the `by` parameter as a list.\n",
    "\n",
    "*Note*: By default, the column in the `by` parameter is set to the index of the created table. To keep that variable as a column, you can set `as_index=False`. This is most useful for multiple groupings."
   ]
  },
  {
   "cell_type": "code",
   "execution_count": 10,
   "metadata": {
    "colab": {
     "base_uri": "https://localhost:8080/",
     "height": 332
    },
    "executionInfo": {
     "elapsed": 172,
     "status": "ok",
     "timestamp": 1649261447000,
     "user": {
      "displayName": "Emily Grabowski",
      "userId": "01570827589624760057"
     },
     "user_tz": 420
    },
    "id": "vNzLPo-Zleu9",
    "outputId": "456a6775-ea36-43f2-f904-5d631b21f468"
   },
   "outputs": [
    {
     "name": "stderr",
     "output_type": "stream",
     "text": [
      "C:\\Users\\Emily Grabowski\\AppData\\Local\\Temp\\ipykernel_8824\\3128053133.py:4: FutureWarning: ['island'] did not aggregate successfully. If any error is raised this will raise in a future version of pandas. Drop these columns/ops to avoid this warning.\n",
      "  df.groupby(by=['species','sex'],as_index = False).agg(['mean','min'])\n"
     ]
    },
    {
     "data": {
      "text/html": [
       "<div>\n",
       "<style scoped>\n",
       "    .dataframe tbody tr th:only-of-type {\n",
       "        vertical-align: middle;\n",
       "    }\n",
       "\n",
       "    .dataframe tbody tr th {\n",
       "        vertical-align: top;\n",
       "    }\n",
       "\n",
       "    .dataframe thead tr th {\n",
       "        text-align: left;\n",
       "    }\n",
       "\n",
       "    .dataframe thead tr:last-of-type th {\n",
       "        text-align: right;\n",
       "    }\n",
       "</style>\n",
       "<table border=\"1\" class=\"dataframe\">\n",
       "  <thead>\n",
       "    <tr>\n",
       "      <th></th>\n",
       "      <th></th>\n",
       "      <th colspan=\"2\" halign=\"left\">culmen_length_mm</th>\n",
       "      <th colspan=\"2\" halign=\"left\">culmen_depth_mm</th>\n",
       "      <th colspan=\"2\" halign=\"left\">flipper_length_mm</th>\n",
       "      <th colspan=\"2\" halign=\"left\">body_mass_g</th>\n",
       "    </tr>\n",
       "    <tr>\n",
       "      <th></th>\n",
       "      <th></th>\n",
       "      <th>mean</th>\n",
       "      <th>min</th>\n",
       "      <th>mean</th>\n",
       "      <th>min</th>\n",
       "      <th>mean</th>\n",
       "      <th>min</th>\n",
       "      <th>mean</th>\n",
       "      <th>min</th>\n",
       "    </tr>\n",
       "    <tr>\n",
       "      <th>species</th>\n",
       "      <th>sex</th>\n",
       "      <th></th>\n",
       "      <th></th>\n",
       "      <th></th>\n",
       "      <th></th>\n",
       "      <th></th>\n",
       "      <th></th>\n",
       "      <th></th>\n",
       "      <th></th>\n",
       "    </tr>\n",
       "  </thead>\n",
       "  <tbody>\n",
       "    <tr>\n",
       "      <th rowspan=\"2\" valign=\"top\">Adelie</th>\n",
       "      <th>FEMALE</th>\n",
       "      <td>37.257534</td>\n",
       "      <td>32.1</td>\n",
       "      <td>17.621918</td>\n",
       "      <td>15.5</td>\n",
       "      <td>187.794521</td>\n",
       "      <td>172.0</td>\n",
       "      <td>3368.835616</td>\n",
       "      <td>2850.0</td>\n",
       "    </tr>\n",
       "    <tr>\n",
       "      <th>MALE</th>\n",
       "      <td>40.390411</td>\n",
       "      <td>34.6</td>\n",
       "      <td>19.072603</td>\n",
       "      <td>17.0</td>\n",
       "      <td>192.410959</td>\n",
       "      <td>178.0</td>\n",
       "      <td>4043.493151</td>\n",
       "      <td>3325.0</td>\n",
       "    </tr>\n",
       "    <tr>\n",
       "      <th rowspan=\"2\" valign=\"top\">Chinstrap</th>\n",
       "      <th>FEMALE</th>\n",
       "      <td>46.573529</td>\n",
       "      <td>40.9</td>\n",
       "      <td>17.588235</td>\n",
       "      <td>16.4</td>\n",
       "      <td>191.735294</td>\n",
       "      <td>178.0</td>\n",
       "      <td>3527.205882</td>\n",
       "      <td>2700.0</td>\n",
       "    </tr>\n",
       "    <tr>\n",
       "      <th>MALE</th>\n",
       "      <td>51.094118</td>\n",
       "      <td>48.5</td>\n",
       "      <td>19.252941</td>\n",
       "      <td>17.5</td>\n",
       "      <td>199.911765</td>\n",
       "      <td>187.0</td>\n",
       "      <td>3938.970588</td>\n",
       "      <td>3250.0</td>\n",
       "    </tr>\n",
       "    <tr>\n",
       "      <th rowspan=\"3\" valign=\"top\">Gentoo</th>\n",
       "      <th>.</th>\n",
       "      <td>44.500000</td>\n",
       "      <td>44.5</td>\n",
       "      <td>15.700000</td>\n",
       "      <td>15.7</td>\n",
       "      <td>217.000000</td>\n",
       "      <td>217.0</td>\n",
       "      <td>4875.000000</td>\n",
       "      <td>4875.0</td>\n",
       "    </tr>\n",
       "    <tr>\n",
       "      <th>FEMALE</th>\n",
       "      <td>45.563793</td>\n",
       "      <td>40.9</td>\n",
       "      <td>14.237931</td>\n",
       "      <td>13.1</td>\n",
       "      <td>212.706897</td>\n",
       "      <td>203.0</td>\n",
       "      <td>4679.741379</td>\n",
       "      <td>3950.0</td>\n",
       "    </tr>\n",
       "    <tr>\n",
       "      <th>MALE</th>\n",
       "      <td>49.473770</td>\n",
       "      <td>44.4</td>\n",
       "      <td>15.718033</td>\n",
       "      <td>14.1</td>\n",
       "      <td>221.540984</td>\n",
       "      <td>208.0</td>\n",
       "      <td>5484.836066</td>\n",
       "      <td>4750.0</td>\n",
       "    </tr>\n",
       "  </tbody>\n",
       "</table>\n",
       "</div>"
      ],
      "text/plain": [
       "                 culmen_length_mm       culmen_depth_mm        \\\n",
       "                             mean   min            mean   min   \n",
       "species   sex                                                   \n",
       "Adelie    FEMALE        37.257534  32.1       17.621918  15.5   \n",
       "          MALE          40.390411  34.6       19.072603  17.0   \n",
       "Chinstrap FEMALE        46.573529  40.9       17.588235  16.4   \n",
       "          MALE          51.094118  48.5       19.252941  17.5   \n",
       "Gentoo    .             44.500000  44.5       15.700000  15.7   \n",
       "          FEMALE        45.563793  40.9       14.237931  13.1   \n",
       "          MALE          49.473770  44.4       15.718033  14.1   \n",
       "\n",
       "                 flipper_length_mm         body_mass_g          \n",
       "                              mean    min         mean     min  \n",
       "species   sex                                                   \n",
       "Adelie    FEMALE        187.794521  172.0  3368.835616  2850.0  \n",
       "          MALE          192.410959  178.0  4043.493151  3325.0  \n",
       "Chinstrap FEMALE        191.735294  178.0  3527.205882  2700.0  \n",
       "          MALE          199.911765  187.0  3938.970588  3250.0  \n",
       "Gentoo    .             217.000000  217.0  4875.000000  4875.0  \n",
       "          FEMALE        212.706897  203.0  4679.741379  3950.0  \n",
       "          MALE          221.540984  208.0  5484.836066  4750.0  "
      ]
     },
     "execution_count": 10,
     "metadata": {},
     "output_type": "execute_result"
    }
   ],
   "source": [
    "df.groupby(by=['species','sex'],as_index = False).mean()\n",
    "\n",
    "#This is equivalent to using the agg function:\n",
    "df.groupby(by=['species','sex'],as_index = False).agg(['mean','min'])"
   ]
  },
  {
   "cell_type": "markdown",
   "metadata": {
    "id": "Ccwhsst-qRTV"
   },
   "source": [
    "There are certain functions available to groupby objects, including `max`,`min`,`mean`,`sum`,`count`. "
   ]
  },
  {
   "cell_type": "code",
   "execution_count": 11,
   "metadata": {
    "colab": {
     "base_uri": "https://localhost:8080/",
     "height": 300
    },
    "executionInfo": {
     "elapsed": 194,
     "status": "ok",
     "timestamp": 1649261592386,
     "user": {
      "displayName": "Emily Grabowski",
      "userId": "01570827589624760057"
     },
     "user_tz": 420
    },
    "id": "tZjb4O4bZjmF",
    "outputId": "e7b1a5b8-36cd-421b-9d32-504af3ebf0f1"
   },
   "outputs": [
    {
     "data": {
      "text/html": [
       "<div>\n",
       "<style scoped>\n",
       "    .dataframe tbody tr th:only-of-type {\n",
       "        vertical-align: middle;\n",
       "    }\n",
       "\n",
       "    .dataframe tbody tr th {\n",
       "        vertical-align: top;\n",
       "    }\n",
       "\n",
       "    .dataframe thead tr th {\n",
       "        text-align: left;\n",
       "    }\n",
       "</style>\n",
       "<table border=\"1\" class=\"dataframe\">\n",
       "  <thead>\n",
       "    <tr>\n",
       "      <th></th>\n",
       "      <th>species</th>\n",
       "      <th>sex</th>\n",
       "      <th colspan=\"2\" halign=\"left\">flipper_length_mm</th>\n",
       "      <th>body_mass_g</th>\n",
       "    </tr>\n",
       "    <tr>\n",
       "      <th></th>\n",
       "      <th></th>\n",
       "      <th></th>\n",
       "      <th>min</th>\n",
       "      <th>max</th>\n",
       "      <th>mean</th>\n",
       "    </tr>\n",
       "  </thead>\n",
       "  <tbody>\n",
       "    <tr>\n",
       "      <th>0</th>\n",
       "      <td>Adelie</td>\n",
       "      <td>FEMALE</td>\n",
       "      <td>172.0</td>\n",
       "      <td>202.0</td>\n",
       "      <td>3368.835616</td>\n",
       "    </tr>\n",
       "    <tr>\n",
       "      <th>1</th>\n",
       "      <td>Adelie</td>\n",
       "      <td>MALE</td>\n",
       "      <td>178.0</td>\n",
       "      <td>210.0</td>\n",
       "      <td>4043.493151</td>\n",
       "    </tr>\n",
       "    <tr>\n",
       "      <th>2</th>\n",
       "      <td>Chinstrap</td>\n",
       "      <td>FEMALE</td>\n",
       "      <td>178.0</td>\n",
       "      <td>202.0</td>\n",
       "      <td>3527.205882</td>\n",
       "    </tr>\n",
       "    <tr>\n",
       "      <th>3</th>\n",
       "      <td>Chinstrap</td>\n",
       "      <td>MALE</td>\n",
       "      <td>187.0</td>\n",
       "      <td>212.0</td>\n",
       "      <td>3938.970588</td>\n",
       "    </tr>\n",
       "    <tr>\n",
       "      <th>4</th>\n",
       "      <td>Gentoo</td>\n",
       "      <td>.</td>\n",
       "      <td>217.0</td>\n",
       "      <td>217.0</td>\n",
       "      <td>4875.000000</td>\n",
       "    </tr>\n",
       "    <tr>\n",
       "      <th>5</th>\n",
       "      <td>Gentoo</td>\n",
       "      <td>FEMALE</td>\n",
       "      <td>203.0</td>\n",
       "      <td>222.0</td>\n",
       "      <td>4679.741379</td>\n",
       "    </tr>\n",
       "    <tr>\n",
       "      <th>6</th>\n",
       "      <td>Gentoo</td>\n",
       "      <td>MALE</td>\n",
       "      <td>208.0</td>\n",
       "      <td>231.0</td>\n",
       "      <td>5484.836066</td>\n",
       "    </tr>\n",
       "  </tbody>\n",
       "</table>\n",
       "</div>"
      ],
      "text/plain": [
       "     species     sex flipper_length_mm         body_mass_g\n",
       "                                   min    max         mean\n",
       "0     Adelie  FEMALE             172.0  202.0  3368.835616\n",
       "1     Adelie    MALE             178.0  210.0  4043.493151\n",
       "2  Chinstrap  FEMALE             178.0  202.0  3527.205882\n",
       "3  Chinstrap    MALE             187.0  212.0  3938.970588\n",
       "4     Gentoo       .             217.0  217.0  4875.000000\n",
       "5     Gentoo  FEMALE             203.0  222.0  4679.741379\n",
       "6     Gentoo    MALE             208.0  231.0  5484.836066"
      ]
     },
     "execution_count": 11,
     "metadata": {},
     "output_type": "execute_result"
    }
   ],
   "source": [
    "df.groupby(by=['species','sex'],as_index = False).agg({'flipper_length_mm':['min','max'],\n",
    "                                                       'body_mass_g':np.mean})"
   ]
  },
  {
   "cell_type": "markdown",
   "metadata": {
    "id": "kL5c2oELVZTN"
   },
   "source": [
    "\n",
    "You can also use custom functions on the grouped data."
   ]
  },
  {
   "cell_type": "code",
   "execution_count": 12,
   "metadata": {
    "colab": {
     "base_uri": "https://localhost:8080/",
     "height": 206
    },
    "executionInfo": {
     "elapsed": 31,
     "status": "ok",
     "timestamp": 1649256438223,
     "user": {
      "displayName": "Emily Grabowski",
      "userId": "01570827589624760057"
     },
     "user_tz": 420
    },
    "id": "rYT_I1WfsAIM",
    "outputId": "7df2dd38-6193-4d10-b024-4140ca29fbd0"
   },
   "outputs": [
    {
     "data": {
      "text/html": [
       "<div>\n",
       "<style scoped>\n",
       "    .dataframe tbody tr th:only-of-type {\n",
       "        vertical-align: middle;\n",
       "    }\n",
       "\n",
       "    .dataframe tbody tr th {\n",
       "        vertical-align: top;\n",
       "    }\n",
       "\n",
       "    .dataframe thead tr th {\n",
       "        text-align: left;\n",
       "    }\n",
       "\n",
       "    .dataframe thead tr:last-of-type th {\n",
       "        text-align: right;\n",
       "    }\n",
       "</style>\n",
       "<table border=\"1\" class=\"dataframe\">\n",
       "  <thead>\n",
       "    <tr>\n",
       "      <th></th>\n",
       "      <th colspan=\"3\" halign=\"left\">body_mass_g</th>\n",
       "      <th colspan=\"2\" halign=\"left\">flipper_length_mm</th>\n",
       "    </tr>\n",
       "    <tr>\n",
       "      <th></th>\n",
       "      <th>custom_function</th>\n",
       "      <th>min</th>\n",
       "      <th>max</th>\n",
       "      <th>mean</th>\n",
       "      <th>&lt;lambda_0&gt;</th>\n",
       "    </tr>\n",
       "    <tr>\n",
       "      <th>species</th>\n",
       "      <th></th>\n",
       "      <th></th>\n",
       "      <th></th>\n",
       "      <th></th>\n",
       "      <th></th>\n",
       "    </tr>\n",
       "  </thead>\n",
       "  <tbody>\n",
       "    <tr>\n",
       "      <th>Adelie</th>\n",
       "      <td>55880.0</td>\n",
       "      <td>2850.0</td>\n",
       "      <td>4775.0</td>\n",
       "      <td>189.953642</td>\n",
       "      <td>1899.536424</td>\n",
       "    </tr>\n",
       "    <tr>\n",
       "      <th>Chinstrap</th>\n",
       "      <td>25385.0</td>\n",
       "      <td>2700.0</td>\n",
       "      <td>4800.0</td>\n",
       "      <td>195.823529</td>\n",
       "      <td>1958.235294</td>\n",
       "    </tr>\n",
       "    <tr>\n",
       "      <th>Gentoo</th>\n",
       "      <td>62435.0</td>\n",
       "      <td>3950.0</td>\n",
       "      <td>6300.0</td>\n",
       "      <td>217.186992</td>\n",
       "      <td>2171.869919</td>\n",
       "    </tr>\n",
       "  </tbody>\n",
       "</table>\n",
       "</div>"
      ],
      "text/plain": [
       "              body_mass_g                 flipper_length_mm             \n",
       "          custom_function     min     max              mean   <lambda_0>\n",
       "species                                                                 \n",
       "Adelie            55880.0  2850.0  4775.0        189.953642  1899.536424\n",
       "Chinstrap         25385.0  2700.0  4800.0        195.823529  1958.235294\n",
       "Gentoo            62435.0  3950.0  6300.0        217.186992  2171.869919"
      ]
     },
     "execution_count": 12,
     "metadata": {},
     "output_type": "execute_result"
    }
   ],
   "source": [
    "def custom_function(group):\n",
    " return(np.nansum(group)/10)\n",
    " \n",
    "df.groupby(by='species').agg({'body_mass_g':[custom_function,'min','max'],\n",
    "                              'flipper_length_mm':['mean',lambda group : np.mean(group)*10]})\n"
   ]
  },
  {
   "cell_type": "markdown",
   "metadata": {
    "id": "VCFOb59LjuMO"
   },
   "source": [
    "This tutorial presented some useful tools for using [groupby](https://pandas.pydata.org/pandas-docs/stable/user_guide/groupby.html) for aggregatng dataframes and "
   ]
  },
  {
   "cell_type": "code",
   "execution_count": null,
   "metadata": {},
   "outputs": [],
   "source": []
  }
 ],
 "metadata": {
  "colab": {
   "authorship_tag": "ABX9TyOGok/K37A2JNVXN5vFVuXX",
   "collapsed_sections": [],
   "name": "Summarizing with groubpby.ipynb",
   "provenance": []
  },
  "kernelspec": {
   "display_name": "Python 3 (ipykernel)",
   "language": "python",
   "name": "python3"
  },
  "language_info": {
   "codemirror_mode": {
    "name": "ipython",
    "version": 3
   },
   "file_extension": ".py",
   "mimetype": "text/x-python",
   "name": "python",
   "nbconvert_exporter": "python",
   "pygments_lexer": "ipython3",
   "version": "3.9.13"
  }
 },
 "nbformat": 4,
 "nbformat_minor": 1
}
